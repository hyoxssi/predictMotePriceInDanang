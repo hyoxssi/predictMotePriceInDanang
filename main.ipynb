{
 "cells": [
  {
   "attachments": {},
   "cell_type": "markdown",
   "metadata": {},
   "source": [
    "## Include Libraries"
   ]
  },
  {
   "cell_type": "code",
   "execution_count": 13,
   "metadata": {},
   "outputs": [],
   "source": [
    "import tensorflow\n",
    "import numpy as np\n",
    "import pandas as pd\n",
    "import matplotlib.pyplot as plt\n",
    "from sklearn.preprocessing import OneHotEncoder, StandardScaler, LabelEncoder\n",
    "import seaborn as sns\n",
    "from scipy import stats\n",
    "\n",
    "from sklearn.ensemble import RandomForestRegressor,GradientBoostingRegressor,VotingRegressor\n",
    "from sklearn.neighbors import KNeighborsRegressor\n",
    "import lightgbm as lgb\n",
    "from sklearn.metrics import mean_squared_error\n",
    "from sklearn.model_selection import train_test_split"
   ]
  },
  {
   "attachments": {},
   "cell_type": "markdown",
   "metadata": {},
   "source": [
    "## Read CSV file"
   ]
  },
  {
   "cell_type": "code",
   "execution_count": 14,
   "metadata": {},
   "outputs": [
    {
     "data": {
      "text/html": [
       "<div>\n",
       "<style scoped>\n",
       "    .dataframe tbody tr th:only-of-type {\n",
       "        vertical-align: middle;\n",
       "    }\n",
       "\n",
       "    .dataframe tbody tr th {\n",
       "        vertical-align: top;\n",
       "    }\n",
       "\n",
       "    .dataframe thead th {\n",
       "        text-align: right;\n",
       "    }\n",
       "</style>\n",
       "<table border=\"1\" class=\"dataframe\">\n",
       "  <thead>\n",
       "    <tr style=\"text-align: right;\">\n",
       "      <th></th>\n",
       "      <th>Unnamed: 0</th>\n",
       "      <th>Price</th>\n",
       "      <th>Area</th>\n",
       "      <th>Ward</th>\n",
       "      <th>District</th>\n",
       "    </tr>\n",
       "  </thead>\n",
       "  <tbody>\n",
       "    <tr>\n",
       "      <th>0</th>\n",
       "      <td>0</td>\n",
       "      <td>2000000.0</td>\n",
       "      <td>35</td>\n",
       "      <td>Hòa Minh</td>\n",
       "      <td>Liên Chiểu</td>\n",
       "    </tr>\n",
       "    <tr>\n",
       "      <th>1</th>\n",
       "      <td>1</td>\n",
       "      <td>2500000.0</td>\n",
       "      <td>35</td>\n",
       "      <td>Mỹ An</td>\n",
       "      <td>Ngũ Hành Sơn</td>\n",
       "    </tr>\n",
       "    <tr>\n",
       "      <th>2</th>\n",
       "      <td>2</td>\n",
       "      <td>2000000.0</td>\n",
       "      <td>35</td>\n",
       "      <td>Hòa Cường Nam</td>\n",
       "      <td>Hải Châu</td>\n",
       "    </tr>\n",
       "    <tr>\n",
       "      <th>3</th>\n",
       "      <td>3</td>\n",
       "      <td>1700000.0</td>\n",
       "      <td>20</td>\n",
       "      <td>Xuân Hà</td>\n",
       "      <td>Thanh Khê</td>\n",
       "    </tr>\n",
       "    <tr>\n",
       "      <th>4</th>\n",
       "      <td>4</td>\n",
       "      <td>2200000.0</td>\n",
       "      <td>18</td>\n",
       "      <td>Hòa Cường Bắc</td>\n",
       "      <td>Hải Châu</td>\n",
       "    </tr>\n",
       "    <tr>\n",
       "      <th>...</th>\n",
       "      <td>...</td>\n",
       "      <td>...</td>\n",
       "      <td>...</td>\n",
       "      <td>...</td>\n",
       "      <td>...</td>\n",
       "    </tr>\n",
       "    <tr>\n",
       "      <th>4246</th>\n",
       "      <td>4246</td>\n",
       "      <td>1000000.0</td>\n",
       "      <td>16</td>\n",
       "      <td>Hòa Khánh Bắc</td>\n",
       "      <td>Liên Chiểu</td>\n",
       "    </tr>\n",
       "    <tr>\n",
       "      <th>4247</th>\n",
       "      <td>4247</td>\n",
       "      <td>4800000.0</td>\n",
       "      <td>30</td>\n",
       "      <td>Hòa Cường Bắc</td>\n",
       "      <td>Hải Châu</td>\n",
       "    </tr>\n",
       "    <tr>\n",
       "      <th>4248</th>\n",
       "      <td>4248</td>\n",
       "      <td>1700000.0</td>\n",
       "      <td>20</td>\n",
       "      <td>Mỹ An</td>\n",
       "      <td>Ngũ Hành Sơn</td>\n",
       "    </tr>\n",
       "    <tr>\n",
       "      <th>4249</th>\n",
       "      <td>4249</td>\n",
       "      <td>5000000.0</td>\n",
       "      <td>40</td>\n",
       "      <td>Hòa Cường Nam</td>\n",
       "      <td>Hải Châu</td>\n",
       "    </tr>\n",
       "    <tr>\n",
       "      <th>4250</th>\n",
       "      <td>4250</td>\n",
       "      <td>2000000.0</td>\n",
       "      <td>20</td>\n",
       "      <td>Mỹ An</td>\n",
       "      <td>Ngũ Hành Sơn</td>\n",
       "    </tr>\n",
       "  </tbody>\n",
       "</table>\n",
       "<p>4251 rows × 5 columns</p>\n",
       "</div>"
      ],
      "text/plain": [
       "      Unnamed: 0      Price  Area           Ward      District\n",
       "0              0  2000000.0    35       Hòa Minh    Liên Chiểu\n",
       "1              1  2500000.0    35          Mỹ An  Ngũ Hành Sơn\n",
       "2              2  2000000.0    35  Hòa Cường Nam      Hải Châu\n",
       "3              3  1700000.0    20        Xuân Hà     Thanh Khê\n",
       "4              4  2200000.0    18  Hòa Cường Bắc      Hải Châu\n",
       "...          ...        ...   ...            ...           ...\n",
       "4246        4246  1000000.0    16  Hòa Khánh Bắc    Liên Chiểu\n",
       "4247        4247  4800000.0    30  Hòa Cường Bắc      Hải Châu\n",
       "4248        4248  1700000.0    20          Mỹ An  Ngũ Hành Sơn\n",
       "4249        4249  5000000.0    40  Hòa Cường Nam      Hải Châu\n",
       "4250        4250  2000000.0    20          Mỹ An  Ngũ Hành Sơn\n",
       "\n",
       "[4251 rows x 5 columns]"
      ]
     },
     "execution_count": 14,
     "metadata": {},
     "output_type": "execute_result"
    }
   ],
   "source": [
    "dataset = pd.read_csv('./Dataset/dataset.csv')\n",
    "dataset"
   ]
  },
  {
   "attachments": {},
   "cell_type": "markdown",
   "metadata": {},
   "source": [
    "## Splitting Continous and Categorical columns\n"
   ]
  },
  {
   "cell_type": "code",
   "execution_count": 15,
   "metadata": {},
   "outputs": [],
   "source": [
    "Categorical_cols = ['Ward','District']\n",
    "Continous_cols = ['Area']"
   ]
  },
  {
   "attachments": {},
   "cell_type": "markdown",
   "metadata": {},
   "source": [
    "## Data Encryption"
   ]
  },
  {
   "attachments": {},
   "cell_type": "markdown",
   "metadata": {},
   "source": [
    "### Using Onehot Encoding in Categorical Columns\n"
   ]
  },
  {
   "cell_type": "code",
   "execution_count": 16,
   "metadata": {},
   "outputs": [
    {
     "name": "stderr",
     "output_type": "stream",
     "text": [
      "c:\\Users\\Phan Nhat\\anaconda3\\envs\\KHDL\\lib\\site-packages\\sklearn\\preprocessing\\_encoders.py:868: FutureWarning: `sparse` was renamed to `sparse_output` in version 1.2 and will be removed in 1.4. `sparse_output` is ignored unless you leave `sparse` to its default value.\n",
      "  warnings.warn(\n"
     ]
    }
   ],
   "source": [
    "ohe = OneHotEncoder(sparse=False)\n",
    "ohe_set = ohe.fit_transform(dataset[Categorical_cols])\n",
    "ohe_name_col = []\n",
    "for i in ohe.categories_:\n",
    "    ohe_name_col+=(i.tolist())"
   ]
  },
  {
   "attachments": {},
   "cell_type": "markdown",
   "metadata": {},
   "source": [
    "### Using Standard Scaler in Continous Columns\n"
   ]
  },
  {
   "cell_type": "code",
   "execution_count": 17,
   "metadata": {},
   "outputs": [],
   "source": [
    "std = StandardScaler()\n",
    "std_set = std.fit_transform(dataset[Continous_cols])"
   ]
  },
  {
   "attachments": {},
   "cell_type": "markdown",
   "metadata": {},
   "source": [
    "## Creating feature dataset"
   ]
  },
  {
   "cell_type": "code",
   "execution_count": 18,
   "metadata": {},
   "outputs": [
    {
     "data": {
      "text/html": [
       "<div>\n",
       "<style scoped>\n",
       "    .dataframe tbody tr th:only-of-type {\n",
       "        vertical-align: middle;\n",
       "    }\n",
       "\n",
       "    .dataframe tbody tr th {\n",
       "        vertical-align: top;\n",
       "    }\n",
       "\n",
       "    .dataframe thead th {\n",
       "        text-align: right;\n",
       "    }\n",
       "</style>\n",
       "<table border=\"1\" class=\"dataframe\">\n",
       "  <thead>\n",
       "    <tr style=\"text-align: right;\">\n",
       "      <th></th>\n",
       "      <th>An Hải Bắc</th>\n",
       "      <th>An Hải Tây</th>\n",
       "      <th>An Hải Đông</th>\n",
       "      <th>An Khê</th>\n",
       "      <th>Bình Hiên</th>\n",
       "      <th>Bình Thuận</th>\n",
       "      <th>Chính Gián</th>\n",
       "      <th>Hòa An</th>\n",
       "      <th>Hòa Cường Bắc</th>\n",
       "      <th>Hòa Cường Nam</th>\n",
       "      <th>...</th>\n",
       "      <th>Vĩnh Trung</th>\n",
       "      <th>Xuân Hà</th>\n",
       "      <th>Cẩm Lệ</th>\n",
       "      <th>Hòa Vang</th>\n",
       "      <th>Hải Châu</th>\n",
       "      <th>Liên Chiểu</th>\n",
       "      <th>Ngũ Hành Sơn</th>\n",
       "      <th>Sơn Trà</th>\n",
       "      <th>Thanh Khê</th>\n",
       "      <th>Area</th>\n",
       "    </tr>\n",
       "  </thead>\n",
       "  <tbody>\n",
       "    <tr>\n",
       "      <th>0</th>\n",
       "      <td>0.0</td>\n",
       "      <td>0.0</td>\n",
       "      <td>0.0</td>\n",
       "      <td>0.0</td>\n",
       "      <td>0.0</td>\n",
       "      <td>0.0</td>\n",
       "      <td>0.0</td>\n",
       "      <td>0.0</td>\n",
       "      <td>0.0</td>\n",
       "      <td>0.0</td>\n",
       "      <td>...</td>\n",
       "      <td>0.0</td>\n",
       "      <td>0.0</td>\n",
       "      <td>0.0</td>\n",
       "      <td>0.0</td>\n",
       "      <td>0.0</td>\n",
       "      <td>1.0</td>\n",
       "      <td>0.0</td>\n",
       "      <td>0.0</td>\n",
       "      <td>0.0</td>\n",
       "      <td>-0.011216</td>\n",
       "    </tr>\n",
       "    <tr>\n",
       "      <th>1</th>\n",
       "      <td>0.0</td>\n",
       "      <td>0.0</td>\n",
       "      <td>0.0</td>\n",
       "      <td>0.0</td>\n",
       "      <td>0.0</td>\n",
       "      <td>0.0</td>\n",
       "      <td>0.0</td>\n",
       "      <td>0.0</td>\n",
       "      <td>0.0</td>\n",
       "      <td>0.0</td>\n",
       "      <td>...</td>\n",
       "      <td>0.0</td>\n",
       "      <td>0.0</td>\n",
       "      <td>0.0</td>\n",
       "      <td>0.0</td>\n",
       "      <td>0.0</td>\n",
       "      <td>0.0</td>\n",
       "      <td>1.0</td>\n",
       "      <td>0.0</td>\n",
       "      <td>0.0</td>\n",
       "      <td>-0.011216</td>\n",
       "    </tr>\n",
       "    <tr>\n",
       "      <th>2</th>\n",
       "      <td>0.0</td>\n",
       "      <td>0.0</td>\n",
       "      <td>0.0</td>\n",
       "      <td>0.0</td>\n",
       "      <td>0.0</td>\n",
       "      <td>0.0</td>\n",
       "      <td>0.0</td>\n",
       "      <td>0.0</td>\n",
       "      <td>0.0</td>\n",
       "      <td>1.0</td>\n",
       "      <td>...</td>\n",
       "      <td>0.0</td>\n",
       "      <td>0.0</td>\n",
       "      <td>0.0</td>\n",
       "      <td>0.0</td>\n",
       "      <td>1.0</td>\n",
       "      <td>0.0</td>\n",
       "      <td>0.0</td>\n",
       "      <td>0.0</td>\n",
       "      <td>0.0</td>\n",
       "      <td>-0.011216</td>\n",
       "    </tr>\n",
       "    <tr>\n",
       "      <th>3</th>\n",
       "      <td>0.0</td>\n",
       "      <td>0.0</td>\n",
       "      <td>0.0</td>\n",
       "      <td>0.0</td>\n",
       "      <td>0.0</td>\n",
       "      <td>0.0</td>\n",
       "      <td>0.0</td>\n",
       "      <td>0.0</td>\n",
       "      <td>0.0</td>\n",
       "      <td>0.0</td>\n",
       "      <td>...</td>\n",
       "      <td>0.0</td>\n",
       "      <td>1.0</td>\n",
       "      <td>0.0</td>\n",
       "      <td>0.0</td>\n",
       "      <td>0.0</td>\n",
       "      <td>0.0</td>\n",
       "      <td>0.0</td>\n",
       "      <td>0.0</td>\n",
       "      <td>1.0</td>\n",
       "      <td>-0.020020</td>\n",
       "    </tr>\n",
       "    <tr>\n",
       "      <th>4</th>\n",
       "      <td>0.0</td>\n",
       "      <td>0.0</td>\n",
       "      <td>0.0</td>\n",
       "      <td>0.0</td>\n",
       "      <td>0.0</td>\n",
       "      <td>0.0</td>\n",
       "      <td>0.0</td>\n",
       "      <td>0.0</td>\n",
       "      <td>1.0</td>\n",
       "      <td>0.0</td>\n",
       "      <td>...</td>\n",
       "      <td>0.0</td>\n",
       "      <td>0.0</td>\n",
       "      <td>0.0</td>\n",
       "      <td>0.0</td>\n",
       "      <td>1.0</td>\n",
       "      <td>0.0</td>\n",
       "      <td>0.0</td>\n",
       "      <td>0.0</td>\n",
       "      <td>0.0</td>\n",
       "      <td>-0.021194</td>\n",
       "    </tr>\n",
       "  </tbody>\n",
       "</table>\n",
       "<p>5 rows × 55 columns</p>\n",
       "</div>"
      ],
      "text/plain": [
       "   An Hải Bắc  An Hải Tây  An Hải Đông  An Khê  Bình Hiên  Bình Thuận  \\\n",
       "0         0.0         0.0          0.0     0.0        0.0         0.0   \n",
       "1         0.0         0.0          0.0     0.0        0.0         0.0   \n",
       "2         0.0         0.0          0.0     0.0        0.0         0.0   \n",
       "3         0.0         0.0          0.0     0.0        0.0         0.0   \n",
       "4         0.0         0.0          0.0     0.0        0.0         0.0   \n",
       "\n",
       "   Chính Gián  Hòa An  Hòa Cường Bắc  Hòa Cường Nam  ...  Vĩnh Trung  Xuân Hà  \\\n",
       "0         0.0     0.0            0.0            0.0  ...         0.0      0.0   \n",
       "1         0.0     0.0            0.0            0.0  ...         0.0      0.0   \n",
       "2         0.0     0.0            0.0            1.0  ...         0.0      0.0   \n",
       "3         0.0     0.0            0.0            0.0  ...         0.0      1.0   \n",
       "4         0.0     0.0            1.0            0.0  ...         0.0      0.0   \n",
       "\n",
       "   Cẩm Lệ  Hòa Vang  Hải Châu  Liên Chiểu  Ngũ Hành Sơn  Sơn Trà  Thanh Khê  \\\n",
       "0     0.0       0.0       0.0         1.0           0.0      0.0        0.0   \n",
       "1     0.0       0.0       0.0         0.0           1.0      0.0        0.0   \n",
       "2     0.0       0.0       1.0         0.0           0.0      0.0        0.0   \n",
       "3     0.0       0.0       0.0         0.0           0.0      0.0        1.0   \n",
       "4     0.0       0.0       1.0         0.0           0.0      0.0        0.0   \n",
       "\n",
       "       Area  \n",
       "0 -0.011216  \n",
       "1 -0.011216  \n",
       "2 -0.011216  \n",
       "3 -0.020020  \n",
       "4 -0.021194  \n",
       "\n",
       "[5 rows x 55 columns]"
      ]
     },
     "execution_count": 18,
     "metadata": {},
     "output_type": "execute_result"
    }
   ],
   "source": [
    "feature_set = pd.concat([pd.DataFrame(data=ohe_set,columns = ohe_name_col), pd.DataFrame(data = std_set, columns = Continous_cols)], axis = 1)\n",
    "feature_set.columns = feature_set.columns.astype(str)\n",
    "feature_set.head()"
   ]
  },
  {
   "attachments": {},
   "cell_type": "markdown",
   "metadata": {},
   "source": [
    "## Creating scaler target dataset"
   ]
  },
  {
   "cell_type": "code",
   "execution_count": 19,
   "metadata": {},
   "outputs": [
    {
     "data": {
      "text/html": [
       "<div>\n",
       "<style scoped>\n",
       "    .dataframe tbody tr th:only-of-type {\n",
       "        vertical-align: middle;\n",
       "    }\n",
       "\n",
       "    .dataframe tbody tr th {\n",
       "        vertical-align: top;\n",
       "    }\n",
       "\n",
       "    .dataframe thead th {\n",
       "        text-align: right;\n",
       "    }\n",
       "</style>\n",
       "<table border=\"1\" class=\"dataframe\">\n",
       "  <thead>\n",
       "    <tr style=\"text-align: right;\">\n",
       "      <th></th>\n",
       "      <th>Price</th>\n",
       "    </tr>\n",
       "  </thead>\n",
       "  <tbody>\n",
       "    <tr>\n",
       "      <th>0</th>\n",
       "      <td>-0.029682</td>\n",
       "    </tr>\n",
       "    <tr>\n",
       "      <th>1</th>\n",
       "      <td>-0.027451</td>\n",
       "    </tr>\n",
       "    <tr>\n",
       "      <th>2</th>\n",
       "      <td>-0.029682</td>\n",
       "    </tr>\n",
       "    <tr>\n",
       "      <th>3</th>\n",
       "      <td>-0.031021</td>\n",
       "    </tr>\n",
       "    <tr>\n",
       "      <th>4</th>\n",
       "      <td>-0.028790</td>\n",
       "    </tr>\n",
       "  </tbody>\n",
       "</table>\n",
       "</div>"
      ],
      "text/plain": [
       "      Price\n",
       "0 -0.029682\n",
       "1 -0.027451\n",
       "2 -0.029682\n",
       "3 -0.031021\n",
       "4 -0.028790"
      ]
     },
     "execution_count": 19,
     "metadata": {},
     "output_type": "execute_result"
    }
   ],
   "source": [
    "target_std = StandardScaler().fit(dataset[['Price']])\n",
    "target_set = pd.DataFrame(data = target_std.transform(dataset[['Price']]), columns = ['Price'])\n",
    "target_set.head()"
   ]
  },
  {
   "attachments": {},
   "cell_type": "markdown",
   "metadata": {},
   "source": [
    "## Train and Test splitting"
   ]
  },
  {
   "cell_type": "code",
   "execution_count": 24,
   "metadata": {},
   "outputs": [
    {
     "name": "stdout",
     "output_type": "stream",
     "text": [
      "(4251, 55) (4251, 1)\n"
     ]
    }
   ],
   "source": [
    "print(feature_set.shape, target_set.shape)\n",
    "x_train, x_test, y_train, y_test = train_test_split(feature_set, target_set, random_state=0, shuffle=True, test_size=0.2)\n",
    "x_train.columns = x_train.columns.astype(str)\n",
    "x_test.columns = x_test.columns.astype(str)"
   ]
  },
  {
   "attachments": {},
   "cell_type": "markdown",
   "metadata": {},
   "source": [
    "## Preprocessing"
   ]
  },
  {
   "attachments": {},
   "cell_type": "markdown",
   "metadata": {},
   "source": [
    "### Check missing value"
   ]
  },
  {
   "cell_type": "code",
   "execution_count": 27,
   "metadata": {},
   "outputs": [
    {
     "data": {
      "text/plain": [
       "An Hải Bắc        0\n",
       "An Hải Tây        0\n",
       "An Hải Đông       0\n",
       "An Khê            0\n",
       "Bình Hiên         0\n",
       "Bình Thuận        0\n",
       "Chính Gián        0\n",
       "Hòa An            0\n",
       "Hòa Cường Bắc     0\n",
       "Hòa Cường Nam     0\n",
       "Hòa Hiệp Bắc      0\n",
       "Hòa Hiệp Nam      0\n",
       "Hòa Hải           0\n",
       "Hòa Khánh Bắc     0\n",
       "Hòa Khánh Nam     0\n",
       "Hòa Khê           0\n",
       "Hòa Liên          0\n",
       "Hòa Minh          0\n",
       "Hòa Phát          0\n",
       "Hòa Quý           0\n",
       "Hòa Thuận Tây     0\n",
       "Hòa Thuận Đông    0\n",
       "Hòa Thọ Tây       0\n",
       "Hòa Thọ Đông      0\n",
       "Hòa Xuân          0\n",
       "Hải Châu I        0\n",
       "Hải Châu II       0\n",
       "Khuê Mỹ           0\n",
       "Khuê Trung        0\n",
       "Mân Thái          0\n",
       "Mỹ An             0\n",
       "Nam Dương         0\n",
       "Nại Hiên Đông     0\n",
       "Phước Mỹ          0\n",
       "Phước Ninh        0\n",
       "Tam Thuận         0\n",
       "Thanh Bình        0\n",
       "Thanh Khê Tây     0\n",
       "Thanh Khê Đông    0\n",
       "Thuận Phước       0\n",
       "Thạc Gián         0\n",
       "Thạch Thang       0\n",
       "Thọ Quang         0\n",
       "Tân Chính         0\n",
       "Unknown W         0\n",
       "Vĩnh Trung        0\n",
       "Xuân Hà           0\n",
       "Cẩm Lệ            0\n",
       "Hòa Vang          0\n",
       "Hải Châu          0\n",
       "Liên Chiểu        0\n",
       "Ngũ Hành Sơn      0\n",
       "Sơn Trà           0\n",
       "Thanh Khê         0\n",
       "Area              0\n",
       "dtype: int64"
      ]
     },
     "execution_count": 27,
     "metadata": {},
     "output_type": "execute_result"
    }
   ],
   "source": [
    "x_train.isna().sum()"
   ]
  },
  {
   "attachments": {},
   "cell_type": "markdown",
   "metadata": {},
   "source": [
    "### Fill missing value"
   ]
  },
  {
   "cell_type": "code",
   "execution_count": null,
   "metadata": {},
   "outputs": [],
   "source": []
  },
  {
   "attachments": {},
   "cell_type": "markdown",
   "metadata": {},
   "source": [
    "## Predicting"
   ]
  },
  {
   "cell_type": "code",
   "execution_count": 25,
   "metadata": {},
   "outputs": [],
   "source": [
    "def Get_Score(algo, name):\n",
    "    algo.fit(x_train, y_train)\n",
    "    y_pred = algo.predict(x_test)\n",
    "    x_ax = range(len(y_pred))\n",
    "    y_pred = y_pred.reshape(851, 1)\n",
    "    original_set = target_std.inverse_transform(y_test)\n",
    "    predicted_set = target_std.inverse_transform(y_pred)\n",
    "    plt.scatter(x_ax, original_set, s= 4, color=\"blue\", label=\"original\")\n",
    "    plt.plot(x_ax, predicted_set, color=\"red\", label=\"predicted\")\n",
    "    plt.legend()\n",
    "    plt.show()\n",
    "    score = mean_squared_error(y_test,y_pred,squared = False)\n",
    "    print(name, 'Mean squared error: ',score)\n",
    "    return predicted_set, original_set"
   ]
  },
  {
   "cell_type": "code",
   "execution_count": 26,
   "metadata": {},
   "outputs": [
    {
     "data": {
      "image/png": "[encoded data removed]",
      "text/plain": [
       "<Figure size 640x480 with 1 Axes>"
      ]
     },
     "metadata": {},
     "output_type": "display_data"
    },
    {
     "ename": "ValueError",
     "evalue": "Input contains NaN.",
     "output_type": "error",
     "traceback": [
      "\u001b[1;31m---------------------------------------------------------------------------\u001b[0m",
      "\u001b[1;31mValueError\u001b[0m                                Traceback (most recent call last)",
      "Cell \u001b[1;32mIn[26], line 2\u001b[0m\n\u001b[0;32m      1\u001b[0m lightgb \u001b[39m=\u001b[39m lgb\u001b[39m.\u001b[39mLGBMRegressor(n_estimators\u001b[39m=\u001b[39m\u001b[39m500\u001b[39m, max_depth\u001b[39m=\u001b[39m\u001b[39m7\u001b[39m, min_split_gain\u001b[39m=\u001b[39m\u001b[39m4\u001b[39m, min_child_samples\u001b[39m=\u001b[39m\u001b[39m6\u001b[39m)\n\u001b[1;32m----> 2\u001b[0m Get_Score(lightgb, \u001b[39m'\u001b[39;49m\u001b[39mLightGradientBoosting\u001b[39;49m\u001b[39m'\u001b[39;49m)\n",
      "Cell \u001b[1;32mIn[25], line 12\u001b[0m, in \u001b[0;36mGet_Score\u001b[1;34m(algo, name)\u001b[0m\n\u001b[0;32m     10\u001b[0m plt\u001b[39m.\u001b[39mlegend()\n\u001b[0;32m     11\u001b[0m plt\u001b[39m.\u001b[39mshow()\n\u001b[1;32m---> 12\u001b[0m score \u001b[39m=\u001b[39m mean_squared_error(y_test,y_pred,squared \u001b[39m=\u001b[39;49m \u001b[39mFalse\u001b[39;49;00m)\n\u001b[0;32m     13\u001b[0m \u001b[39mprint\u001b[39m(name, \u001b[39m'\u001b[39m\u001b[39mMean squared error: \u001b[39m\u001b[39m'\u001b[39m,score)\n\u001b[0;32m     14\u001b[0m \u001b[39mreturn\u001b[39;00m predicted_set, original_set\n",
      "File \u001b[1;32mc:\\Users\\Phan Nhat\\anaconda3\\envs\\KHDL\\lib\\site-packages\\sklearn\\metrics\\_regression.py:442\u001b[0m, in \u001b[0;36mmean_squared_error\u001b[1;34m(y_true, y_pred, sample_weight, multioutput, squared)\u001b[0m\n\u001b[0;32m    382\u001b[0m \u001b[39mdef\u001b[39;00m \u001b[39mmean_squared_error\u001b[39m(\n\u001b[0;32m    383\u001b[0m     y_true, y_pred, \u001b[39m*\u001b[39m, sample_weight\u001b[39m=\u001b[39m\u001b[39mNone\u001b[39;00m, multioutput\u001b[39m=\u001b[39m\u001b[39m\"\u001b[39m\u001b[39muniform_average\u001b[39m\u001b[39m\"\u001b[39m, squared\u001b[39m=\u001b[39m\u001b[39mTrue\u001b[39;00m\n\u001b[0;32m    384\u001b[0m ):\n\u001b[0;32m    385\u001b[0m \u001b[39m    \u001b[39m\u001b[39m\"\"\"Mean squared error regression loss.\u001b[39;00m\n\u001b[0;32m    386\u001b[0m \n\u001b[0;32m    387\u001b[0m \u001b[39m    Read more in the :ref:`User Guide <mean_squared_error>`.\u001b[39;00m\n\u001b[1;32m   (...)\u001b[0m\n\u001b[0;32m    440\u001b[0m \u001b[39m    0.825...\u001b[39;00m\n\u001b[0;32m    441\u001b[0m \u001b[39m    \"\"\"\u001b[39;00m\n\u001b[1;32m--> 442\u001b[0m     y_type, y_true, y_pred, multioutput \u001b[39m=\u001b[39m _check_reg_targets(\n\u001b[0;32m    443\u001b[0m         y_true, y_pred, multioutput\n\u001b[0;32m    444\u001b[0m     )\n\u001b[0;32m    445\u001b[0m     check_consistent_length(y_true, y_pred, sample_weight)\n\u001b[0;32m    446\u001b[0m     output_errors \u001b[39m=\u001b[39m np\u001b[39m.\u001b[39maverage((y_true \u001b[39m-\u001b[39m y_pred) \u001b[39m*\u001b[39m\u001b[39m*\u001b[39m \u001b[39m2\u001b[39m, axis\u001b[39m=\u001b[39m\u001b[39m0\u001b[39m, weights\u001b[39m=\u001b[39msample_weight)\n",
      "File \u001b[1;32mc:\\Users\\Phan Nhat\\anaconda3\\envs\\KHDL\\lib\\site-packages\\sklearn\\metrics\\_regression.py:101\u001b[0m, in \u001b[0;36m_check_reg_targets\u001b[1;34m(y_true, y_pred, multioutput, dtype)\u001b[0m\n\u001b[0;32m     67\u001b[0m \u001b[39m\u001b[39m\u001b[39m\"\"\"Check that y_true and y_pred belong to the same regression task.\u001b[39;00m\n\u001b[0;32m     68\u001b[0m \n\u001b[0;32m     69\u001b[0m \u001b[39mParameters\u001b[39;00m\n\u001b[1;32m   (...)\u001b[0m\n\u001b[0;32m     98\u001b[0m \u001b[39m    correct keyword.\u001b[39;00m\n\u001b[0;32m     99\u001b[0m \u001b[39m\"\"\"\u001b[39;00m\n\u001b[0;32m    100\u001b[0m check_consistent_length(y_true, y_pred)\n\u001b[1;32m--> 101\u001b[0m y_true \u001b[39m=\u001b[39m check_array(y_true, ensure_2d\u001b[39m=\u001b[39;49m\u001b[39mFalse\u001b[39;49;00m, dtype\u001b[39m=\u001b[39;49mdtype)\n\u001b[0;32m    102\u001b[0m y_pred \u001b[39m=\u001b[39m check_array(y_pred, ensure_2d\u001b[39m=\u001b[39m\u001b[39mFalse\u001b[39;00m, dtype\u001b[39m=\u001b[39mdtype)\n\u001b[0;32m    104\u001b[0m \u001b[39mif\u001b[39;00m y_true\u001b[39m.\u001b[39mndim \u001b[39m==\u001b[39m \u001b[39m1\u001b[39m:\n",
      "File \u001b[1;32mc:\\Users\\Phan Nhat\\anaconda3\\envs\\KHDL\\lib\\site-packages\\sklearn\\utils\\validation.py:921\u001b[0m, in \u001b[0;36mcheck_array\u001b[1;34m(array, accept_sparse, accept_large_sparse, dtype, order, copy, force_all_finite, ensure_2d, allow_nd, ensure_min_samples, ensure_min_features, estimator, input_name)\u001b[0m\n\u001b[0;32m    915\u001b[0m         \u001b[39mraise\u001b[39;00m \u001b[39mValueError\u001b[39;00m(\n\u001b[0;32m    916\u001b[0m             \u001b[39m\"\u001b[39m\u001b[39mFound array with dim \u001b[39m\u001b[39m%d\u001b[39;00m\u001b[39m. \u001b[39m\u001b[39m%s\u001b[39;00m\u001b[39m expected <= 2.\u001b[39m\u001b[39m\"\u001b[39m\n\u001b[0;32m    917\u001b[0m             \u001b[39m%\u001b[39m (array\u001b[39m.\u001b[39mndim, estimator_name)\n\u001b[0;32m    918\u001b[0m         )\n\u001b[0;32m    920\u001b[0m     \u001b[39mif\u001b[39;00m force_all_finite:\n\u001b[1;32m--> 921\u001b[0m         _assert_all_finite(\n\u001b[0;32m    922\u001b[0m             array,\n\u001b[0;32m    923\u001b[0m             input_name\u001b[39m=\u001b[39;49minput_name,\n\u001b[0;32m    924\u001b[0m             estimator_name\u001b[39m=\u001b[39;49mestimator_name,\n\u001b[0;32m    925\u001b[0m             allow_nan\u001b[39m=\u001b[39;49mforce_all_finite \u001b[39m==\u001b[39;49m \u001b[39m\"\u001b[39;49m\u001b[39mallow-nan\u001b[39;49m\u001b[39m\"\u001b[39;49m,\n\u001b[0;32m    926\u001b[0m         )\n\u001b[0;32m    928\u001b[0m \u001b[39mif\u001b[39;00m ensure_min_samples \u001b[39m>\u001b[39m \u001b[39m0\u001b[39m:\n\u001b[0;32m    929\u001b[0m     n_samples \u001b[39m=\u001b[39m _num_samples(array)\n",
      "File \u001b[1;32mc:\\Users\\Phan Nhat\\anaconda3\\envs\\KHDL\\lib\\site-packages\\sklearn\\utils\\validation.py:161\u001b[0m, in \u001b[0;36m_assert_all_finite\u001b[1;34m(X, allow_nan, msg_dtype, estimator_name, input_name)\u001b[0m\n\u001b[0;32m    144\u001b[0m \u001b[39mif\u001b[39;00m estimator_name \u001b[39mand\u001b[39;00m input_name \u001b[39m==\u001b[39m \u001b[39m\"\u001b[39m\u001b[39mX\u001b[39m\u001b[39m\"\u001b[39m \u001b[39mand\u001b[39;00m has_nan_error:\n\u001b[0;32m    145\u001b[0m     \u001b[39m# Improve the error message on how to handle missing values in\u001b[39;00m\n\u001b[0;32m    146\u001b[0m     \u001b[39m# scikit-learn.\u001b[39;00m\n\u001b[0;32m    147\u001b[0m     msg_err \u001b[39m+\u001b[39m\u001b[39m=\u001b[39m (\n\u001b[0;32m    148\u001b[0m         \u001b[39mf\u001b[39m\u001b[39m\"\u001b[39m\u001b[39m\\n\u001b[39;00m\u001b[39m{\u001b[39;00mestimator_name\u001b[39m}\u001b[39;00m\u001b[39m does not accept missing values\u001b[39m\u001b[39m\"\u001b[39m\n\u001b[0;32m    149\u001b[0m         \u001b[39m\"\u001b[39m\u001b[39m encoded as NaN natively. For supervised learning, you might want\u001b[39m\u001b[39m\"\u001b[39m\n\u001b[1;32m   (...)\u001b[0m\n\u001b[0;32m    159\u001b[0m         \u001b[39m\"\u001b[39m\u001b[39m#estimators-that-handle-nan-values\u001b[39m\u001b[39m\"\u001b[39m\n\u001b[0;32m    160\u001b[0m     )\n\u001b[1;32m--> 161\u001b[0m \u001b[39mraise\u001b[39;00m \u001b[39mValueError\u001b[39;00m(msg_err)\n",
      "\u001b[1;31mValueError\u001b[0m: Input contains NaN."
     ]
    }
   ],
   "source": [
    "lightgb = lgb.LGBMRegressor(n_estimators=500, max_depth=7, min_split_gain=4, min_child_samples=6)\n",
    "Get_Score(lightgb, 'LightGradientBoosting')"
   ]
  }
 ],
 "metadata": {
  "kernelspec": {
   "display_name": "KHDL",
   "language": "python",
   "name": "python3"
  },
  "language_info": {
   "codemirror_mode": {
    "name": "ipython",
    "version": 3
   },
   "file_extension": ".py",
   "mimetype": "text/x-python",
   "name": "python",
   "nbconvert_exporter": "python",
   "pygments_lexer": "ipython3",
   "version": "3.10.9"
  },
  "orig_nbformat": 4
 },
 "nbformat": 4,
 "nbformat_minor": 2
}
